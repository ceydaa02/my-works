{
  "nbformat": 4,
  "nbformat_minor": 0,
  "metadata": {
    "colab": {
      "provenance": [],
      "authorship_tag": "ABX9TyNJI323h3lfBAYqLahXmtY3",
      "include_colab_link": true
    },
    "kernelspec": {
      "name": "python3",
      "display_name": "Python 3"
    },
    "language_info": {
      "name": "python"
    },
    "accelerator": "GPU"
  },
  "cells": [
    {
      "cell_type": "markdown",
      "metadata": {
        "id": "view-in-github",
        "colab_type": "text"
      },
      "source": [
        "<a href=\"https://colab.research.google.com/github/ceydaa02/my-works/blob/main/Urban_Sounds_Classification.ipynb\" target=\"_parent\"><img src=\"https://colab.research.google.com/assets/colab-badge.svg\" alt=\"Open In Colab\"/></a>"
      ]
    },
    {
      "cell_type": "markdown",
      "source": [
        "# URBAN SOUNDS CLASSIFICATION"
      ],
      "metadata": {
        "id": "FwPoLMbi9ypo"
      }
    },
    {
      "cell_type": "code",
      "execution_count": null,
      "metadata": {
        "id": "3qojlXrIMnQC"
      },
      "outputs": [],
      "source": [
        "import pandas as pd\n",
        "import numpy as np\n",
        "import matplotlib.pyplot as plt\n",
        "import cv2 \n",
        "import sys\n",
        "import glob"
      ]
    },
    {
      "cell_type": "code",
      "source": [
        "!pip install opencv-python"
      ],
      "metadata": {
        "id": "oGEXUQ9p9J5l",
        "colab": {
          "base_uri": "https://localhost:8080/"
        },
        "outputId": "35c9c97f-095e-4f65-e3c1-83fcfb5e211c"
      },
      "execution_count": null,
      "outputs": [
        {
          "output_type": "stream",
          "name": "stdout",
          "text": [
            "Looking in indexes: https://pypi.org/simple, https://us-python.pkg.dev/colab-wheels/public/simple/\n",
            "Requirement already satisfied: opencv-python in /usr/local/lib/python3.7/dist-packages (4.6.0.66)\n",
            "Requirement already satisfied: numpy>=1.14.5 in /usr/local/lib/python3.7/dist-packages (from opencv-python) (1.21.6)\n"
          ]
        }
      ]
    },
    {
      "cell_type": "code",
      "source": [
        "from google.colab import drive\n",
        "drive.mount('/content/gdrive')"
      ],
      "metadata": {
        "colab": {
          "base_uri": "https://localhost:8080/"
        },
        "id": "Q06FCl0snsyn",
        "outputId": "7f84edbe-b5d9-4aeb-a97e-73c75578610b"
      },
      "execution_count": null,
      "outputs": [
        {
          "output_type": "stream",
          "name": "stdout",
          "text": [
            "Mounted at /content/gdrive\n"
          ]
        }
      ]
    },
    {
      "cell_type": "code",
      "source": [
        "%cd /content/gdrive/MyDrive/spectrograms-20221005T123024Z-001/spectrograms"
      ],
      "metadata": {
        "colab": {
          "base_uri": "https://localhost:8080/"
        },
        "id": "OcOhic_JoLKt",
        "outputId": "7fce128d-1bbd-4595-f03c-bafd570d80c2"
      },
      "execution_count": null,
      "outputs": [
        {
          "output_type": "stream",
          "name": "stdout",
          "text": [
            "/content/gdrive/MyDrive/spectrograms-20221005T123024Z-001/spectrograms\n"
          ]
        }
      ]
    },
    {
      "cell_type": "markdown",
      "source": [
        "**1.PREPROCESSING THE HISTOGRAM IMAGES**"
      ],
      "metadata": {
        "id": "6CxcKWFa-LZg"
      }
    },
    {
      "cell_type": "code",
      "source": [
        "path = [glob.glob(\"0/*.png\"), glob.glob(\"1/*.png\"), glob.glob(\"2/*.png\"), glob.glob(\"3/*.png\"), glob.glob(\"4/*.png\"), glob.glob(\"5/*.png\"), \n",
        "        glob.glob(\"6/*.png\"), glob.glob(\"7/*.png\"), glob.glob(\"8/*.png\"), glob.glob(\"9/*.png\")]\n",
        "images = []\n",
        "labels = []\n",
        "for i in range(0,10):\n",
        "  for file in path[i]:\n",
        "    img = cv2.imread(file, 0)\n",
        "\n",
        "    resized_image = cv2.resize(img, (256,256))\n",
        "#    resultimage = np.zeros((800, 800))\n",
        "#    normalized_image = cv2.normalize(resized_image,resultimage, 0, 100, cv2.NORM_MINMAX)\n",
        "\n",
        "  # cv2_imshow(img)\n",
        "  # cv2.waitKey(0)\n",
        "  # cv2.destroyAllWindows()\n",
        "    images.append(resized_image)\n",
        "    labels.append(i)\n"
      ],
      "metadata": {
        "id": "xeDKGwJ-v863"
      },
      "execution_count": null,
      "outputs": []
    },
    {
      "cell_type": "code",
      "source": [
        "from pandas.core.arrays.floating import Float64Dtype\n",
        "from google.colab.patches import cv2_imshow\n",
        "cv2_imshow(images[2053])\n",
        "cv2.waitKey(0)\n",
        "cv2.destroyAllWindows()\n",
        "\n",
        "print(f'label of 2053th data : {data.label[2053]}')\n",
        "print(f'Shape of the data: {data.image[2053].shape}')"
      ],
      "metadata": {
        "colab": {
          "base_uri": "https://localhost:8080/",
          "height": 308
        },
        "id": "5gBqs5fI2SoL",
        "outputId": "c307d271-3a8e-43d8-a5fe-2672d8f01af3"
      },
      "execution_count": null,
      "outputs": [
        {
          "output_type": "display_data",
          "data": {
            "text/plain": [
              "<PIL.Image.Image image mode=L size=256x256 at 0x7F2262BAC350>"
            ],
            "image/png": "[encoded data removed]"
          },
          "metadata": {}
        },
        {
          "output_type": "stream",
          "name": "stdout",
          "text": [
            "label of 2053th data : 2\n",
            "Shape of the data: (256, 256)\n"
          ]
        }
      ]
    },
    {
      "cell_type": "code",
      "source": [
        "cv2_imshow(images[0])\n",
        "cv2.waitKey(0)\n",
        "cv2.destroyAllWindows()"
      ],
      "metadata": {
        "colab": {
          "base_uri": "https://localhost:8080/",
          "height": 273
        },
        "id": "70n6TpOOoLb4",
        "outputId": "bf749190-2d7d-4900-aab2-2620551fa29f"
      },
      "execution_count": null,
      "outputs": [
        {
          "output_type": "display_data",
          "data": {
            "text/plain": [
              "<PIL.Image.Image image mode=L size=256x256 at 0x7F2262D748D0>"
            ],
            "image/png": "[encoded data removed]"
          },
          "metadata": {}
        }
      ]
    },
    {
      "cell_type": "markdown",
      "source": [
        "**SPLITTING**"
      ],
      "metadata": {
        "id": "QxhOPAkR-rOT"
      }
    },
    {
      "cell_type": "code",
      "source": [
        "images = np.array(images)\n",
        "labels = np.array(labels)"
      ],
      "metadata": {
        "id": "K3sTUhBduR8l"
      },
      "execution_count": null,
      "outputs": []
    },
    {
      "cell_type": "code",
      "source": [
        "from sklearn.model_selection import train_test_split\n",
        "\n",
        "X_train, X_temporary, y_train, y_temporary = train_test_split(images, labels, train_size = 0.8)\n",
        "\n",
        "X_val, X_test, y_val, y_test = train_test_split(X_temporary, y_temporary, train_size = 0.5)"
      ],
      "metadata": {
        "id": "plyVHfhfoLmv"
      },
      "execution_count": null,
      "outputs": []
    },
    {
      "cell_type": "code",
      "source": [
        "print(f'Lenghts of the dataset : {len(X)}')\n",
        "print(f'Lenghts of the training dataset : {len(X_train)}')\n",
        "print(f'Lenghts of the validation dataset : {len(X_val)}')\n",
        "print(f'Lenghts of the testing dataset : {len(X_test)}')"
      ],
      "metadata": {
        "colab": {
          "base_uri": "https://localhost:8080/"
        },
        "id": "9o_xwvZP4Lr6",
        "outputId": "caf747a4-827a-4eff-e3b6-7509f535198b"
      },
      "execution_count": null,
      "outputs": [
        {
          "output_type": "stream",
          "name": "stdout",
          "text": [
            "Lenghts of the dataset : 8732\n",
            "Lenghts of the training dataset : 6985\n",
            "Lenghts of the validation dataset : 873\n",
            "Lenghts of the testing dataset : 874\n"
          ]
        }
      ]
    },
    {
      "cell_type": "code",
      "source": [
        "X_train = X_train/255\n",
        "X_val = X_val/255\n",
        "X_test = X_test/255"
      ],
      "metadata": {
        "id": "klFujLrOVyxE"
      },
      "execution_count": null,
      "outputs": []
    },
    {
      "cell_type": "markdown",
      "source": [
        "**2.CONSTRUCTING A CNN MODEL**"
      ],
      "metadata": {
        "id": "-mR_IcYt-6ay"
      }
    },
    {
      "cell_type": "code",
      "source": [
        "import tensorflow as tf"
      ],
      "metadata": {
        "id": "IiWwaGZO_Iuk"
      },
      "execution_count": null,
      "outputs": []
    },
    {
      "cell_type": "code",
      "source": [
        "model = tf.keras.Sequential()\n",
        "\n",
        "model.add(tf.keras.layers.Conv2D(32, \n",
        "                                 kernel_size = (3,3),\n",
        "                                 strides=(1,1),\n",
        "                                 padding = \"same\",\n",
        "                                 activation = \"relu\",\n",
        "                                 input_shape = (256, 256, 1)))\n",
        "model.add(tf.keras.layers.MaxPooling2D((2,2)))\n",
        "\n",
        "\n",
        "model.add(tf.keras.layers.Conv2D(64,\n",
        "                                 kernel_size = (3,3),\n",
        "                                 strides=(1,1),\n",
        "                                 padding = \"same\",\n",
        "                                 activation = \"relu\"))\n",
        "\n",
        "model.add(tf.keras.layers.MaxPooling2D((2,2)))\n",
        "\n",
        "\n",
        "model.add(tf.keras.layers.Conv2D(64,\n",
        "                                 kernel_size = (3,3),\n",
        "                                 strides=(1,1),\n",
        "                                 padding = \"same\",\n",
        "                                 activation = \"relu\"))\n",
        "\n",
        "\n",
        "\n",
        "model.add(tf.keras.layers.Dense(64, activation = \"relu\"))\n",
        "model.add(tf.keras.layers.Dropout(0.5))\n",
        "\n",
        "model.add(tf.keras.layers.Dense(64, activation = \"relu\"))\n",
        "model.add(tf.keras.layers.Dropout(0.5))\n",
        "\n",
        "#model.add(tf.keras.layers.Dense(64, activation = \"relu\"))\n",
        "#model.add(tf.keras.layers.Dropout(0.5))\n",
        "\n",
        "model.add(tf.keras.layers.Flatten())\n",
        "model.add(tf.keras.layers.Dense(10, activation = \"softmax\"))\n",
        "\n",
        "model.compile(optimizer=\"adam\", loss = \"sparse_categorical_crossentropy\", metrics=\"accuracy\")"
      ],
      "metadata": {
        "id": "viThm8nu_JGr"
      },
      "execution_count": null,
      "outputs": []
    },
    {
      "cell_type": "markdown",
      "source": [
        "**TRAINING THE MODEL**"
      ],
      "metadata": {
        "id": "3p8sMl9TGuCs"
      }
    },
    {
      "cell_type": "code",
      "source": [
        "results = model.fit(X_train, y_train, batch_size = 128, epochs = 50, validation_data = (X_val, y_val))"
      ],
      "metadata": {
        "id": "9nk49BZI_JI-"
      },
      "execution_count": null,
      "outputs": []
    },
    {
      "cell_type": "code",
      "source": [
        "plt.plot(results.history[\"loss\"], label=\"loss\")\n",
        "plt.plot(results.history[\"val_loss\"], label=\"val_loss\")\n",
        "\n",
        "plt.xlabel(\"Epoch\")\n",
        "plt.ylabel(\"Loss\")\n",
        "\n",
        "plt.legend()\n",
        "\n",
        "plt.show()"
      ],
      "metadata": {
        "id": "u0B0u7PY_JLa"
      },
      "execution_count": null,
      "outputs": []
    },
    {
      "cell_type": "code",
      "source": [
        "plt.plot(results.history[\"accuracy\"], label=\"accuracy\")\n",
        "plt.plot(results.history[\"val_accuracy\"], label=\"val_accuracy\")\n",
        "\n",
        "plt.xlabel(\"Epoch\")\n",
        "plt.ylabel(\"Accuracy\")\n",
        "\n",
        "plt.legend()\n",
        "plt.show()"
      ],
      "metadata": {
        "id": "G9QiUueY_JNy"
      },
      "execution_count": null,
      "outputs": []
    },
    {
      "cell_type": "code",
      "source": [],
      "metadata": {
        "id": "GgwAHCHp_JPy"
      },
      "execution_count": null,
      "outputs": []
    },
    {
      "cell_type": "markdown",
      "source": [],
      "metadata": {
        "id": "lODILzLR-cEP"
      }
    }
  ]
}